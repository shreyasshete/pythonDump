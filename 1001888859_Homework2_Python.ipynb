{
 "cells": [
  {
   "cell_type": "markdown",
   "id": "19c61026",
   "metadata": {},
   "source": [
    "# Homework 2"
   ]
  },
  {
   "cell_type": "markdown",
   "id": "159e72b4",
   "metadata": {},
   "source": [
    "Submitted by: \n",
    "<br>Name: Shreyas Jagadeep Shete\n",
    "<br>UTA-ID: 1001888859.\n",
    "<br>Date: 14 - Oct - 2022\n",
    "<br>\n",
    "<br>NOTE: \n",
    "<br>1. This is submission to \"INSY 5336\" course at \"The University of Texas at Arlington\". \n",
    "<br>2. This is property of \"Shreyas Jagadeep Shete\" and no one can use it for any submissions anywhere. \n",
    "<br>3. You can use it for the reference and can use it for any project apart from university submissions."
   ]
  },
  {
   "cell_type": "markdown",
   "id": "de943fe8",
   "metadata": {},
   "source": [
    "1. Download the mbox-short.text file attached below. Read the file into python, and find out the email address of every contact that has sent an email to us in the past. Count how many times they have contacted us, and print out their email address as well as the number of past interactions."
   ]
  },
  {
   "cell_type": "code",
   "execution_count": 6,
   "id": "66d3b19a",
   "metadata": {},
   "outputs": [
    {
     "name": "stdout",
     "output_type": "stream",
     "text": [
      "Here is the list of contacts: \n",
      "stephen.marquard@uct.ac.za , 2 times\n",
      "louis@media.berkeley.edu , 3 times\n",
      "zqian@umich.edu , 4 times\n",
      "rjlowe@iupui.edu , 2 times\n",
      "cwen@iupui.edu , 5 times\n",
      "gsilver@umich.edu , 3 times\n",
      "wagnermr@iupui.edu , 1 times\n",
      "antranig@caret.cam.ac.uk , 1 times\n",
      "gopal.ramasammycook@gmail.com , 1 times\n",
      "david.horwitz@uct.ac.za , 4 times\n",
      "ray@media.berkeley.edu , 1 times\n"
     ]
    }
   ],
   "source": [
    "filehandle = open('mbox-short.txt')\n",
    "emailIDList = []\n",
    "count = 0\n",
    "for line in filehandle:\n",
    "    if \"From \" in line:\n",
    "        emailID = ((line.split(\"From \",1))[1]).split(\" \")[0]\n",
    "        emailIDList.append(emailID)\n",
    "emailIDdict = {}\n",
    "for email in emailIDList:\n",
    "    if email not in emailIDdict:\n",
    "        emailIDdict[email] = 1\n",
    "    else:\n",
    "        emailIDdict[email] = emailIDdict[email] + 1\n",
    "  \n",
    "print(\"Here is the list of contacts: \")\n",
    "for key in emailIDdict:\n",
    "    print(f'{key} : {emailIDdict[key]} times')\n",
    "            \n",
    "    \n"
   ]
  },
  {
   "cell_type": "markdown",
   "id": "0581e174",
   "metadata": {},
   "source": [
    "2. Write a function that accepts a line of text and a single letter as input (your program should be able to handle all upper and lower cases) and returns the number of times this letter is the second last character of a word. Note your program should be able to handle different cases. And check if the user input is a single letter. Think about how you deal with words ending with punctuation."
   ]
  },
  {
   "cell_type": "code",
   "execution_count": 28,
   "id": "62c4793d",
   "metadata": {},
   "outputs": [
    {
     "name": "stdout",
     "output_type": "stream",
     "text": [
      "Input text = India is my country, & I love India ! .\n",
      "Input letter = i\n",
      "\n",
      "The letter i has appeared 3 times as the second last letter of a word.\n"
     ]
    }
   ],
   "source": [
    "inp1 = input('Input text = ').lower()\n",
    "inp2 = input('Input letter = ').lower()\n",
    "\n",
    "abc = 'abcdefghijklmnopqrstuvwxyz '\n",
    "\n",
    "inp1Str = ''\n",
    "\n",
    "for i in inp1:\n",
    "    if i not in abc:\n",
    "        inp1Str += ' '\n",
    "    else:\n",
    "        inp1Str = inp1Str + i\n",
    "        \n",
    "wordList = inp1Str.split()\n",
    "\n",
    "\n",
    "count = 0\n",
    "for word in wordList:\n",
    "    if len(word) > 1:\n",
    "        if word[-2] == inp2:\n",
    "            count = count +1\n",
    "\n",
    "        \n",
    "print(f\"\\nThe letter {inp2} has appeared {count} times as the second last letter of a word.\")"
   ]
  },
  {
   "cell_type": "markdown",
   "id": "a0359b7c",
   "metadata": {},
   "source": [
    "3. Write a Python program to ask user input of a string, then ask user input of what letters they want to remove from the string. User can either put in \"odd\", \"even\" or a number \"n\" that is greater than 2. When user input \"odd\", it will remove the characters which have odd numbers in the sequence of the string. When user input \"even\", it will remove the characters which have even numbers in the sequence of the string. When user input \"n\" number, it will remove the characters which have nth numbers in the sequence of the string. Note that we are talking about the sequence of the letters, so the first letter in a string is number 1, the second is number 2, and so on."
   ]
  },
  {
   "cell_type": "code",
   "execution_count": 10,
   "id": "7e6afa28",
   "metadata": {},
   "outputs": [
    {
     "name": "stdout",
     "output_type": "stream",
     "text": [
      "Input string = Inida\n",
      "Input choice (Input choice should be \"Odd\" or \"Even\" or a number greater than 2 but less than string length) = -1\n",
      "\n",
      "The input choice you entered is less than 2. Rerun the program again with correct input.\n",
      "\n"
     ]
    }
   ],
   "source": [
    "inp1 = input('Input string = ')\n",
    "inp2 = input('Input choice (Input choice should be \"Odd\" or \"Even\" or a number greater than 2 but less than string length) = ').lower()\n",
    "outputStr = ''\n",
    "if inp2 == 'odd':\n",
    "    for i in range(len(inp1)):\n",
    "        if i%2 != 0:\n",
    "            outputStr = outputStr + inp1[i]\n",
    "    print(f'\\nOutput = {outputStr}')\n",
    "elif inp2 == 'even':\n",
    "    for i in range(len(inp1)):\n",
    "        if i%2 == 0:\n",
    "            outputStr = outputStr + inp1[i]\n",
    "    print(f'\\nOutput = {outputStr}')\n",
    "else:\n",
    "    try:\n",
    "        inpInt = int(inp2)\n",
    "        if inpInt > 2:\n",
    "            if len(inp1) < 2:\n",
    "                print(f'\\nOutput = {inp1}; Length of the string is less than two therefore nothing to delete')\n",
    "            else:\n",
    "                for i in range(len(inp1)):\n",
    "                    if i == inpInt-1:\n",
    "                        pass\n",
    "                    else:\n",
    "                        outputStr = outputStr + inp1[i]\n",
    "                print(f'\\nOutput = {outputStr}')\n",
    "        else:\n",
    "            print('\\nThe input choice you entered is less than 2. Rerun the program again with correct input.\\n')\n",
    "    except:\n",
    "        print('\\nERROR! wrong input choice. (Input choice should be \"Odd\" or \"Even\" or a number greater than 2 but less than string length). \\n\\n Rerun the program again with correct input.\\n\\n\\n\\n')\n",
    "\n",
    "            "
   ]
  },
  {
   "cell_type": "markdown",
   "id": "6e9eb6a6",
   "metadata": {},
   "source": [
    "4. Write a Python program to create a Caesar encryption. Your program will first ask for the input of a secret message, then ask how many places you wish to shift each letter in the alphabet. In the end, your program will produce the shifted secret message as a string. Your program should be able to handle all upper and lower cases, and check if the user inputs are valid."
   ]
  },
  {
   "cell_type": "code",
   "execution_count": 30,
   "id": "69166031",
   "metadata": {},
   "outputs": [
    {
     "name": "stdout",
     "output_type": "stream",
     "text": [
      "Enter secret message:Inida\n",
      "Enter Shift(only integers allowed): 2\n",
      "Secret output:\n",
      "kpkfc\n"
     ]
    }
   ],
   "source": [
    "abc = 'abcdefghijklmnopqrstuvwxyz'\n",
    "alphabetList = list(abc)\n",
    "inp1 = input('Enter secret message:').lower()\n",
    "try:\n",
    "    inp2 = int(input(\"Enter Shift(only integers allowed): \"))\n",
    "    secretStr = ''\n",
    "    for i in inp1:\n",
    "        if i not in alphabetList:\n",
    "            secretStr += i\n",
    "        else:\n",
    "            ind = alphabetList.index(i)\n",
    "            if ind >= 0:\n",
    "                new_ind = (ind + inp2) % 26\n",
    "                secretStr += alphabetList[new_ind]\n",
    "            \n",
    "    print(f'Secret output:\\n{secretStr}')\n",
    "    \n",
    "except:\n",
    "    print(\"\\nERROR! Wrong Shift entered (only integers allowed). Rerun and Try again.\\n\")\n"
   ]
  },
  {
   "cell_type": "markdown",
   "id": "8256426d",
   "metadata": {},
   "source": [
    "5. Write a Python program to ask how many elements users want to create in a list, then let the user create 2 lists with the number of elements previously entered. Then create and display all combinations of letters, selecting each letter from a different key in a dictionary, and place all these combinations in a new list."
   ]
  },
  {
   "cell_type": "code",
   "execution_count": 39,
   "id": "9d834378",
   "metadata": {},
   "outputs": [
    {
     "name": "stdout",
     "output_type": "stream",
     "text": [
      "How many elements?(only integers allowed) 2\n",
      "\n",
      "Enter 2 elements one after another in a sequence to two lists. \n",
      "Totally you have to enter 4 elements\n",
      "\n",
      "Entering elements to first list\n",
      "Enter an element: a\n",
      "Enter an element: b\n",
      "First List = ['a', 'b']\n",
      "\n",
      "Entering elements to second list\n",
      "Enter an element: c\n",
      "Enter an element: d\n",
      "Second List = ['c', 'd']\n",
      "\n",
      "\n",
      "Final Combined List = ['ac', 'ad', 'bc', 'bd', 'ca', 'cb', 'da', 'db']\n"
     ]
    }
   ],
   "source": [
    "try:\n",
    "    inpElements = int(input('How many elements?(only integers allowed) '))\n",
    "    print(f'\\nEnter {inpElements} elements one after another in a sequence to two lists. \\nTotally you have to enter {inpElements*2} elements\\n')\n",
    "    lst1 = []\n",
    "    lst2 = []\n",
    "    print(\"Entering elements to first list\")\n",
    "    for i in range(inpElements):\n",
    "        inp = input('Enter an element: ')\n",
    "        lst1.append(inp)\n",
    "    print(f'First List = {lst1}\\n')\n",
    "    \n",
    "    print(\"Entering elements to second list\")\n",
    "    for i in range(inpElements):\n",
    "        inp = input('Enter an element: ')\n",
    "        lst2.append(inp)\n",
    "    print(f'Second List = {lst2}\\n')\n",
    "    \n",
    "    FinalLst = []\n",
    "    for i in lst1:\n",
    "        for j in lst2:\n",
    "            element = i + j\n",
    "            FinalLst.append(element)\n",
    "    for i in lst2:\n",
    "        for j in lst1:\n",
    "            element = i + j\n",
    "            FinalLst.append(element)\n",
    "    print(f'\\nFinal Combined List = {FinalLst}')\n",
    "            \n",
    "        \n",
    "except:\n",
    "    print('\\nERROR! Invalid Input. Only integers are allowed for How many elements, Rerun and try again with correct input.\\n')\n",
    "    "
   ]
  },
  {
   "cell_type": "code",
   "execution_count": null,
   "id": "71dcaa40",
   "metadata": {},
   "outputs": [],
   "source": []
  }
 ],
 "metadata": {
  "kernelspec": {
   "display_name": "Python 3 (ipykernel)",
   "language": "python",
   "name": "python3"
  },
  "language_info": {
   "codemirror_mode": {
    "name": "ipython",
    "version": 3
   },
   "file_extension": ".py",
   "mimetype": "text/x-python",
   "name": "python",
   "nbconvert_exporter": "python",
   "pygments_lexer": "ipython3",
   "version": "3.9.12"
  }
 },
 "nbformat": 4,
 "nbformat_minor": 5
}
