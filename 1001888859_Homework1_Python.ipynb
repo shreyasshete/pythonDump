{
 "cells": [
  {
   "cell_type": "markdown",
   "id": "050ef43a",
   "metadata": {},
   "source": [
    "# Question 1"
   ]
  },
  {
   "cell_type": "markdown",
   "id": "86e1a213",
   "metadata": {},
   "source": [
    "Question 1: Implement a program that requests three strings from the user. Your program should concatenate the first two strings (string1 + string2) and compare the concatenated string with the third string. If they are equal, your program should print “They are equal”, otherwise, the program should concatenate the two strings in the reverse order (string2 + string1) and compare it with the third string and print “They are also equal”. If this second test also fails, your program should print “They are not equal”."
   ]
  },
  {
   "cell_type": "code",
   "execution_count": 63,
   "id": "8f1fb705",
   "metadata": {},
   "outputs": [
    {
     "name": "stdout",
     "output_type": "stream",
     "text": [
      "Enter String1: 2\n",
      "Enter String2: 3\n",
      "Enter String3: 23\n",
      "Perfoming comparison between concatenated string(string1+string2) with string3\n",
      "i.e., Comparing 23 with 23,\n",
      "They are equal\n"
     ]
    }
   ],
   "source": [
    "# Solution 1\n",
    "\n",
    "# Let us take three strings as input\n",
    "\n",
    "str1 = input(\"Enter String1: \")\n",
    "str2 = input(\"Enter String2: \")\n",
    "str3 = input(\"Enter String3: \")\n",
    "\n",
    "# concatinating str1 and str2\n",
    "\n",
    "concatstr12 = str1+str2\n",
    "concatstr21 = str2+str1\n",
    "\n",
    "if(concatstr12 == str3):\n",
    "    print('Perfoming comparison between concatenated string(string1+string2) with string3')\n",
    "    print(f'i.e., Comparing {concatstr12} with {str3},')\n",
    "    print('They are equal')\n",
    "elif(concatstr21 == str3):\n",
    "    print('Perfoming comparison between concatenated string(string2+string1) with string3')\n",
    "    print(f'i.e., Comparing {concatstr21} with {str3},')\n",
    "    print('They are also equal')\n",
    "else:\n",
    "    print('They are not equal')"
   ]
  },
  {
   "cell_type": "markdown",
   "id": "cab04594",
   "metadata": {},
   "source": [
    "# Question 2"
   ]
  },
  {
   "cell_type": "markdown",
   "id": "abde905d",
   "metadata": {},
   "source": [
    "Question 2: Write a Python program that reads in 3 integers or 4 integers (user first determines 3 or 4 integers) and displays the following:\n",
    "1. the average of the numbers (round to the closest integer, use < .5 to round down and >= .5 to round up )\n",
    "2. the maximum of the numbers\n",
    "3. the minimum of the numbers\n",
    "4. the median of the numbers. Note that if there was 2 numbers that qualify for the median, you will calculate and display the mean of the 2 numbers (round to the closest integer, use < .5 to round down and >= .5 to round up )"
   ]
  },
  {
   "cell_type": "code",
   "execution_count": 64,
   "id": "9cbf915a",
   "metadata": {},
   "outputs": [],
   "source": [
    "# Check if the input is integer\n",
    "\n",
    "def input_integerCheck():\n",
    "    while(True):\n",
    "        inputVal =  input(\"Strictly enter an integer(any other value other than an integer results in an ERROR): \")\n",
    "        try:\n",
    "            inputValue = int(inputVal)\n",
    "            return inputValue\n",
    "        except:\n",
    "            print(\"ERROR! INVALID INPUT: Input given is NOT of INTEGER type.\")"
   ]
  },
  {
   "cell_type": "code",
   "execution_count": 65,
   "id": "b9b95307",
   "metadata": {},
   "outputs": [
    {
     "name": "stdout",
     "output_type": "stream",
     "text": [
      "Enter the number of integers('3' or '4') that you wish to enter for calculations?(NOTE: your input should strictly be '3 or '4): 3\n",
      "Enter first integer:\n",
      "Strictly enter an integer(any other value other than an integer results in an ERROR): 9\n",
      "Enter second integer:\n",
      "Strictly enter an integer(any other value other than an integer results in an ERROR): 1\n",
      "Enter third integer:\n",
      "Strictly enter an integer(any other value other than an integer results in an ERROR): 5\n",
      "The average of the three numbers is:  5\n",
      "The maximum of the three numbers is:  9\n",
      "The minimum of the three numbers is:  1\n",
      "The median of the three numbers is:  5\n"
     ]
    }
   ],
   "source": [
    "# Solution 2\n",
    "\n",
    "# Ask user to enter the number of integers they wish to enter\n",
    "\n",
    "no_ofIntegers = input(\"Enter the number of integers('3' or '4') that you wish to enter for calculations?(NOTE: your input should strictly be '3 or '4): \")\n",
    "\n",
    "if(no_ofIntegers =='3' or no_ofIntegers =='4'):\n",
    "    if(no_ofIntegers == '3'):\n",
    "        print(\"Enter first integer:\")\n",
    "        firstInteger = input_integerCheck()\n",
    "        print(\"Enter second integer:\")\n",
    "        secondInteger = input_integerCheck()\n",
    "        print(\"Enter third integer:\")\n",
    "        thirdInteger = input_integerCheck()\n",
    "        average = (firstInteger+secondInteger+thirdInteger)/3\n",
    "        print(\"The average of the three numbers is: \", round(average))\n",
    "        lst = [firstInteger,secondInteger,thirdInteger]\n",
    "        lst.sort()\n",
    "        print(\"The maximum of the three numbers is: \", max(lst))\n",
    "        print(\"The minimum of the three numbers is: \", min(lst))\n",
    "        middle_valueIndex = len(lst) // 2\n",
    "        median = (lst[middle_valueIndex] + lst[~middle_valueIndex]) / 2\n",
    "        print(\"The median of the three numbers is: \", int(median))\n",
    "    else:\n",
    "        print(\"Enter first integer:\")\n",
    "        firstInteger = input_integerCheck()\n",
    "        print(\"Enter second integer:\")\n",
    "        secondInteger = input_integerCheck()\n",
    "        print(\"Enter third integer:\")\n",
    "        thirdInteger = input_integerCheck()\n",
    "        print(\"Enter fourth integer:\")\n",
    "        fourthInteger = input_integerCheck()\n",
    "        average = (firstInteger+secondInteger+thirdInteger+fourthInteger)/4\n",
    "        print(\"The average of the four numbers is: \", round(average))\n",
    "        lst = [firstInteger,secondInteger,thirdInteger,fourthInteger]\n",
    "        lst.sort()\n",
    "        print(\"The maximum of the four numbers is: \", max(lst))\n",
    "        print(\"The minimum of the four numbers is: \", min(lst))\n",
    "        middle_valueIndex = len(lst) // 2\n",
    "        median = (lst[middle_valueIndex] + lst[~middle_valueIndex]) / 2\n",
    "        print(\"The median of the four numbers is: \", int(median))\n",
    "else:\n",
    "    print(\"ERROR! INVALID INPUT: You did not enter '3' or '4'.\")"
   ]
  },
  {
   "cell_type": "markdown",
   "id": "325bc6b7",
   "metadata": {},
   "source": [
    "# Question 3"
   ]
  },
  {
   "cell_type": "markdown",
   "id": "6d9afe32",
   "metadata": {},
   "source": [
    "Question 3: A number that is greater than 1 that is not a prime number is called a composite number. An integer, greater than 1, that is only divisible by 1 and itself is called a prime number. The integers 0 and 1 are neither prime nor composite. Write a python program that requests a positive integer from the user, determines if it is a composite, a prime or neither prime or composite and prints the message. You can choose to use iterative loops to repeatedly run this script or have the user run the script for every input. Please specify instructions on which method you are using to run the code in markdown language above the code cell."
   ]
  },
  {
   "cell_type": "code",
   "execution_count": 69,
   "id": "aba5e184",
   "metadata": {},
   "outputs": [],
   "source": [
    "# Solution 3\n",
    "\n",
    "# Function that check if the input is positive integer\n",
    "\n",
    "def input_positiveIntegerCheck():\n",
    "    inputVal = input(\"Strictly enter a positive integer(any other value other than an positive integer results in an ERROR):\")\n",
    "    while(True):\n",
    "        try:\n",
    "            inputValue = int(inputVal)\n",
    "            if inputValue < 0:\n",
    "                print(\"ERROR! INVALID INPUT: Input given is NOT of POSITIVE INTEGER type.\")\n",
    "                inputVal = input(\"Strictly enter a positive integer(any other value other than an positive integer results in an ERROR):\")\n",
    "            else:\n",
    "                return inputValue\n",
    "        except:\n",
    "            print(\"ERROR! INVALID INPUT: Input given is NOT of INTEGER type.\")\n",
    "            inputVal = input(\"Strictly enter a positive integer(any other value other than an positive integer results in an ERROR):\")"
   ]
  },
  {
   "cell_type": "code",
   "execution_count": 70,
   "id": "ada0c7c5",
   "metadata": {},
   "outputs": [],
   "source": [
    "# Function that check if integer is prime or composite or neither\n",
    "\n",
    "def input_integerPrimeCheck():\n",
    "    inputVal = input_positiveIntegerCheck()\n",
    "    if inputVal == 0 or inputVal == 1:\n",
    "        print(\"It is neither a Prime nor Composite.\") \n",
    "    else:\n",
    "        input_integerCompositeCheck = False\n",
    "        for i in range(2,inputVal): \n",
    "            if inputVal%i == 0:\n",
    "                input_integerCompositeCheck = True\n",
    "        if input_integerCompositeCheck == True:\n",
    "            print(\"It is a Composite.\")\n",
    "        else:\n",
    "            print(\"It is a Prime.\")"
   ]
  },
  {
   "cell_type": "code",
   "execution_count": 71,
   "id": "b0c11312",
   "metadata": {},
   "outputs": [
    {
     "name": "stdout",
     "output_type": "stream",
     "text": [
      "Strictly enter a positive integer(any other value other than an positive integer results in an ERROR):0\n",
      "It is neither a Prime nor Composite.\n"
     ]
    }
   ],
   "source": [
    "# Calling Prime Checker function\n",
    "input_integerPrimeCheck()"
   ]
  },
  {
   "cell_type": "markdown",
   "id": "208a6083",
   "metadata": {},
   "source": [
    "# Question 4"
   ]
  },
  {
   "cell_type": "markdown",
   "id": "41560976",
   "metadata": {},
   "source": [
    "Question 4: Implement a Python function called SmartDivision() that takes two integer arguments. Your function should return the result of the division of the two integers. If the result is an integer, the return type should be an integer. If the result is a floating point number, the return type should be a floating point number.\n",
    " \n",
    "\n",
    "Write a main program that requests the two integers (perform error checking for non-integer inputs). Also in the main program you should call your defined function SmartDivision() that takes 2 arguments and display the result of the division and the return type.\n",
    "\n",
    " \n",
    "\n",
    "Write your function definition in one cell and the function calling main program below it or in a different cell in Jupyter Notebook. I will be testing this program by modifying your program that calls this function.\n",
    "\n",
    " "
   ]
  },
  {
   "cell_type": "code",
   "execution_count": 72,
   "id": "d8dd4ecf",
   "metadata": {},
   "outputs": [],
   "source": [
    "# Solution 4\n",
    "\n",
    "# Check if the input is integer\n",
    "\n",
    "def numerator_inputIntegerCheck():\n",
    "    while(True):\n",
    "        inputVal =  input(\"Strictly enter an integer for the numerator(any other value other than an integer results in an ERROR): \")\n",
    "        try:\n",
    "            numerator = int(inputVal)\n",
    "            return numerator\n",
    "        except:\n",
    "            print(\"ERROR! INVALID INPUT: Input given is NOT of INTEGER type.\")"
   ]
  },
  {
   "cell_type": "code",
   "execution_count": 73,
   "id": "34d14cf1",
   "metadata": {},
   "outputs": [],
   "source": [
    "# Function to check if denominator is an integer or zero value\n",
    "def numerator_inputIntegerAndZeroCheck():\n",
    "      \n",
    "    while(True):\n",
    "        inputVal = input(\"Strictly enter an integer for the denominator('0' mathematically results in UNDEFINED): \")  \n",
    "        try:\n",
    "            denominator = int(inputVal)\n",
    "            if denominator == 0:\n",
    "                print(\"\\nResult: UNDEFINED! \\nAvoid zero('0') as denominator and try again.\")\n",
    "                continue\n",
    "            else:\n",
    "                return denominator\n",
    "        except:\n",
    "            print(\"ERROR! INVALID INPUT: Input given is NOT of INTEGER type.\")\n",
    "            "
   ]
  },
  {
   "cell_type": "code",
   "execution_count": 74,
   "id": "34823089",
   "metadata": {},
   "outputs": [],
   "source": [
    "# Function that perform division operation\n",
    "\n",
    "def smartdivision(numerator, denominator):\n",
    "    if numerator % denominator == 0:\n",
    "        return int(numerator / denominator)\n",
    "    else:\n",
    "        return numerator/denominator"
   ]
  },
  {
   "cell_type": "code",
   "execution_count": 75,
   "id": "a8364f0f",
   "metadata": {},
   "outputs": [],
   "source": [
    "# Main function that calls all sub functions\n",
    "\n",
    "def main():\n",
    "    numerator = numerator_inputIntegerCheck()\n",
    "    denominator = numerator_inputIntegerAndZeroCheck()\n",
    "    result = smartdivision(numerator, denominator)\n",
    "    return result"
   ]
  },
  {
   "cell_type": "code",
   "execution_count": 76,
   "id": "63247dc6",
   "metadata": {},
   "outputs": [
    {
     "name": "stdout",
     "output_type": "stream",
     "text": [
      "Strictly enter an integer for the numerator(any other value other than an integer results in an ERROR): 2\n",
      "Strictly enter an integer for the denominator('0' mathematically results in UNDEFINED): 5\n"
     ]
    },
    {
     "data": {
      "text/plain": [
       "0.4"
      ]
     },
     "execution_count": 76,
     "metadata": {},
     "output_type": "execute_result"
    }
   ],
   "source": [
    "# Calling Main Function\n",
    "\n",
    "main()"
   ]
  },
  {
   "cell_type": "markdown",
   "id": "eecad96a",
   "metadata": {},
   "source": [
    "# Question 5"
   ]
  },
  {
   "cell_type": "markdown",
   "id": "5ad45b1c",
   "metadata": {},
   "source": [
    "Question 5: Write a program that takes as input two opposite corners of a rectangle: (x1,y1) and (x2,y2) – float or integer only. Finally, the user is prompted for the coordinates of a third point (x,y). The program should print Boolean value True or False based on whether the point (x,y) lies within the rectangle. At the end of each run, the user should be prompted to ask whether they want to continue."
   ]
  },
  {
   "cell_type": "code",
   "execution_count": 77,
   "id": "15896280",
   "metadata": {},
   "outputs": [],
   "source": [
    "# Solution 5\n",
    "\n",
    "# Check if the input is floating point number\n",
    "\n",
    "def input_integerFloatCheck():\n",
    "    while(True):\n",
    "        inputVal =  input(\"\\nStrictly enter an integer or a floating point number(any other value other than an integer or a floating point number results in an ERROR): \")\n",
    "        try:\n",
    "            inputValue = float(inputVal)\n",
    "            return inputValue\n",
    "        except:\n",
    "            print(\"ERROR! INVALID INPUT: Input given is NOT of an INTEGER or a FLOAT type.\")"
   ]
  },
  {
   "cell_type": "code",
   "execution_count": 78,
   "id": "fc37de72",
   "metadata": {},
   "outputs": [],
   "source": [
    "# Function that takes cartesian coordinates for the rectangle and the point that is checked for its presence in the rectangle\n",
    "def rectangle():\n",
    "    print(\"Enter cartesian coordinate points for rectangle '(x1,y1)','(x2,y2)' in the order x1, y1, x2, y2 respectively: \")\n",
    "    x1 = input_integerFloatCheck()\n",
    "    y1 = input_integerFloatCheck()\n",
    "    x2 = input_integerFloatCheck()\n",
    "    y2 = input_integerFloatCheck()\n",
    "    print(\"Enter cartesian coordinate points '(x,y)' is checked for its presence in the rectangle in the order x, y respectively. NOTE: If the point is inside or on the rectangle out is 'True' else it's 'False': \")\n",
    "    x = input_integerFloatCheck()\n",
    "    y = input_integerFloatCheck()\n",
    "    x_max = max(x1, x2)\n",
    "    x_min = min(x1, x2)\n",
    "    y_max = max(y1, y2)\n",
    "    y_min = min(y1, y2)\n",
    "    if x_min <= x < x_max and y_min < y < y_max:\n",
    "        print(\"True\")\n",
    "    else:\n",
    "        print(\"False\")\n",
    "    continueValue = input(\"Do you want to continue?(Yes = 'y') Enter any other value to stop: \")\n",
    "    print(\"\\n\\n\")\n",
    "    while continueValue.lower() == 'y':\n",
    "        rectangle()\n",
    "        continueValue = input(\"Do you want to continue?(Yes = 'y') Enter any other value to stop: \")\n",
    "        print(\"\\n\\n\")\n",
    "    print(\"Goodbye!\") "
   ]
  },
  {
   "cell_type": "code",
   "execution_count": 79,
   "id": "a690fb29",
   "metadata": {},
   "outputs": [
    {
     "name": "stdout",
     "output_type": "stream",
     "text": [
      "Enter cartesian coordinate points for rectangle '(x1,y1)','(x2,y2)' in the order x1, y1, x2, y2 respectively: \n",
      "\n",
      "Strictly enter an integer or a floating point number(any other value other than an integer or a floating point number results in an ERROR): 2\n",
      "\n",
      "Strictly enter an integer or a floating point number(any other value other than an integer or a floating point number results in an ERROR): 2\n",
      "\n",
      "Strictly enter an integer or a floating point number(any other value other than an integer or a floating point number results in an ERROR): 3\n",
      "\n",
      "Strictly enter an integer or a floating point number(any other value other than an integer or a floating point number results in an ERROR): 3\n",
      "Enter cartesian coordinate points '(x,y)' is checked for its presence in the rectangle in the order x, y respectively. NOTE: If the point is inside or on the rectangle out is 'True' else it's 'False': \n",
      "\n",
      "Strictly enter an integer or a floating point number(any other value other than an integer or a floating point number results in an ERROR): 2\n",
      "\n",
      "Strictly enter an integer or a floating point number(any other value other than an integer or a floating point number results in an ERROR): 3\n",
      "False\n",
      "Do you want to continue?(Yes = 'y') Enter any other value to stop: n\n",
      "\n",
      "\n",
      "\n",
      "Goodbye!\n"
     ]
    }
   ],
   "source": [
    "# Calling Rectangle function\n",
    "rectangle()"
   ]
  },
  {
   "cell_type": "code",
   "execution_count": null,
   "id": "7cac1dda",
   "metadata": {},
   "outputs": [],
   "source": []
  }
 ],
 "metadata": {
  "kernelspec": {
   "display_name": "Python 3 (ipykernel)",
   "language": "python",
   "name": "python3"
  },
  "language_info": {
   "codemirror_mode": {
    "name": "ipython",
    "version": 3
   },
   "file_extension": ".py",
   "mimetype": "text/x-python",
   "name": "python",
   "nbconvert_exporter": "python",
   "pygments_lexer": "ipython3",
   "version": "3.9.12"
  }
 },
 "nbformat": 4,
 "nbformat_minor": 5
}
